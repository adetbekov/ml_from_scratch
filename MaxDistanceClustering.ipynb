{
 "cells": [
  {
   "cell_type": "markdown",
   "id": "32316377",
   "metadata": {},
   "source": [
    "# Week 4 - Max distance clustering"
   ]
  },
  {
   "cell_type": "markdown",
   "id": "6a6a9505",
   "metadata": {},
   "source": [
    "## Дано\n",
    "\n",
    "Возьмем множество S={S1, S2, ..., S10}, где S1 = (0, 0), S2 = (3, 8), S3 = (2, 2), S4 = (1, 1), S5 = (5, 3), S6 = (4, 8), S7 = (6, 3), S8 = (5, 4), S9 = (6, 4), S10 = (7, 5).\n",
    "Используя алгоритм, определяем количество кластеров на основе выделения центров кластеров."
   ]
  },
  {
   "cell_type": "markdown",
   "id": "b73aba70",
   "metadata": {},
   "source": [
    "## Инициализация"
   ]
  },
  {
   "cell_type": "code",
   "execution_count": 1,
   "id": "00e20576",
   "metadata": {},
   "outputs": [],
   "source": [
    "import numpy as np"
   ]
  },
  {
   "cell_type": "markdown",
   "id": "6a66b29d",
   "metadata": {},
   "source": [
    "## Создаем класс наблюдения (S1, S2, ..., SN)"
   ]
  },
  {
   "cell_type": "code",
   "execution_count": 18,
   "id": "1376706a",
   "metadata": {},
   "outputs": [],
   "source": [
    "class Observation:\n",
    "    def __init__(self, vector=[]):\n",
    "        self.vector = vector\n",
    "        self.label = None\n",
    "        \n",
    "    def is_centroid(self):\n",
    "        return bool(self.label)\n",
    "    \n",
    "    def set_centroid(self, label):\n",
    "        self.label = label\n",
    "        return self\n",
    "    \n",
    "    def calc_distance(self, observation):\n",
    "        return np.linalg.norm(np.array(self.vector) - np.array(observation.vector))\n",
    "    \n",
    "    def __repr__(self):\n",
    "        return f'S({\", \".join(map(str, self.vector))})'"
   ]
  },
  {
   "cell_type": "code",
   "execution_count": 19,
   "id": "de1e6fad",
   "metadata": {},
   "outputs": [],
   "source": [
    "s1 = Observation((0, 0))\n",
    "s2 = Observation((3, 8))"
   ]
  },
  {
   "cell_type": "code",
   "execution_count": 20,
   "id": "327582ce",
   "metadata": {},
   "outputs": [
    {
     "data": {
      "text/plain": [
       "S(0, 0)"
      ]
     },
     "execution_count": 20,
     "metadata": {},
     "output_type": "execute_result"
    }
   ],
   "source": [
    "s1"
   ]
  },
  {
   "cell_type": "code",
   "execution_count": 21,
   "id": "f965b1d5",
   "metadata": {},
   "outputs": [
    {
     "data": {
      "text/plain": [
       "8.54400374531753"
      ]
     },
     "execution_count": 21,
     "metadata": {},
     "output_type": "execute_result"
    }
   ],
   "source": [
    "s1.calc_distance(s2)"
   ]
  },
  {
   "cell_type": "markdown",
   "id": "70a77c6c",
   "metadata": {},
   "source": [
    "## Создаем класс кластеризатора"
   ]
  },
  {
   "cell_type": "code",
   "execution_count": 30,
   "id": "44a2a095",
   "metadata": {},
   "outputs": [],
   "source": [
    "class MaxDistanceClustering:\n",
    "    def __init__(self, n_clusters=2):\n",
    "        self.data = []\n",
    "        self.n_clusters = n_clusters\n",
    "        self.centroids = ()\n",
    "    \n",
    "    def fit(self, X):\n",
    "        for x in X:\n",
    "            self.data.append(Observation(x))\n",
    "            \n",
    "        self.centroids = set([self.data.pop().set_centroid(0)])\n",
    "        for i in range(min(self.n_clusters - 1, len(self.data))):\n",
    "            new_centroid = max(\n",
    "                self.data,\n",
    "                key = lambda o: min(o.calc_distance(c) for c in self.centroids)\n",
    "            )\n",
    "            self.data.remove(new_centroid)\n",
    "            self.centroids.add(new_centroid.set_centroid(i+1))\n",
    "    \n",
    "    \n",
    "    def predict(self, X):\n",
    "        predicted = []\n",
    "        \n",
    "        for x in X:\n",
    "            nearest_centroid = min(self.centroids, key=lambda c: c.calc_distance(Observation(x)))\n",
    "            predicted.append(nearest_centroid.label)\n",
    "        \n",
    "        return predicted"
   ]
  },
  {
   "cell_type": "markdown",
   "id": "fad18203",
   "metadata": {},
   "source": [
    "## Пример"
   ]
  },
  {
   "cell_type": "code",
   "execution_count": 31,
   "id": "051b7ab4",
   "metadata": {},
   "outputs": [],
   "source": [
    "cluster_machine = MaxDistanceClustering(n_clusters=2)"
   ]
  },
  {
   "cell_type": "code",
   "execution_count": 32,
   "id": "f5309bbf",
   "metadata": {},
   "outputs": [],
   "source": [
    "data = [\n",
    "    (0, 0), (3, 8), (2, 2), (1, 1), (5, 3), \n",
    "    (4, 8), (6, 3), (5, 4), (6, 4), (7, 5)\n",
    "]"
   ]
  },
  {
   "cell_type": "code",
   "execution_count": 33,
   "id": "580f1633",
   "metadata": {},
   "outputs": [],
   "source": [
    "cluster_machine.fit(data)"
   ]
  },
  {
   "cell_type": "code",
   "execution_count": 34,
   "id": "c6eccb47",
   "metadata": {},
   "outputs": [
    {
     "data": {
      "text/plain": [
       "{S(0, 0), S(7, 5)}"
      ]
     },
     "execution_count": 34,
     "metadata": {},
     "output_type": "execute_result"
    }
   ],
   "source": [
    "cluster_machine.centroids"
   ]
  },
  {
   "cell_type": "code",
   "execution_count": 36,
   "id": "31220761",
   "metadata": {},
   "outputs": [
    {
     "data": {
      "text/plain": [
       "[1, 1, 0]"
      ]
     },
     "execution_count": 36,
     "metadata": {},
     "output_type": "execute_result"
    }
   ],
   "source": [
    "cluster_machine.predict([\n",
    "    (1, 1),\n",
    "    (2, 3),\n",
    "    (10, 10)\n",
    "])"
   ]
  },
  {
   "cell_type": "code",
   "execution_count": 39,
   "id": "21b5f95b",
   "metadata": {},
   "outputs": [],
   "source": [
    "cluster_machine = MaxDistanceClustering(n_clusters=4)"
   ]
  },
  {
   "cell_type": "code",
   "execution_count": 40,
   "id": "0871e027",
   "metadata": {},
   "outputs": [],
   "source": [
    "data = [\n",
    "    (0, 0, 4), (3, 8, 3), (2, 2, 60), (1, 1, 0), (5, 3, 2), \n",
    "    (4, 8, 100), (6, 3, -22), (5, 4, 20), (6, 4, 10), (7, 5, 1)\n",
    "]"
   ]
  },
  {
   "cell_type": "code",
   "execution_count": 41,
   "id": "9e0f1421",
   "metadata": {},
   "outputs": [],
   "source": [
    "cluster_machine.fit(data)"
   ]
  },
  {
   "cell_type": "code",
   "execution_count": 42,
   "id": "ff5b20b5",
   "metadata": {},
   "outputs": [
    {
     "data": {
      "text/plain": [
       "{S(2, 2, 60), S(4, 8, 100), S(6, 3, -22), S(7, 5, 1)}"
      ]
     },
     "execution_count": 42,
     "metadata": {},
     "output_type": "execute_result"
    }
   ],
   "source": [
    "cluster_machine.centroids"
   ]
  },
  {
   "cell_type": "code",
   "execution_count": 43,
   "id": "4d6e5447",
   "metadata": {},
   "outputs": [
    {
     "data": {
      "text/plain": [
       "[1, 3, 0]"
      ]
     },
     "execution_count": 43,
     "metadata": {},
     "output_type": "execute_result"
    }
   ],
   "source": [
    "cluster_machine.predict([\n",
    "    (1, 1, 100),\n",
    "    (2, 3, -200),\n",
    "    (10, 10, 5)\n",
    "])"
   ]
  }
 ],
 "metadata": {
  "hide_input": false,
  "kernelspec": {
   "display_name": "Python 3 (ipykernel)",
   "language": "python",
   "name": "python3"
  },
  "language_info": {
   "codemirror_mode": {
    "name": "ipython",
    "version": 3
   },
   "file_extension": ".py",
   "mimetype": "text/x-python",
   "name": "python",
   "nbconvert_exporter": "python",
   "pygments_lexer": "ipython3",
   "version": "3.9.12"
  },
  "toc": {
   "base_numbering": 1,
   "nav_menu": {},
   "number_sections": true,
   "sideBar": true,
   "skip_h1_title": false,
   "title_cell": "Table of Contents",
   "title_sidebar": "Contents",
   "toc_cell": false,
   "toc_position": {},
   "toc_section_display": true,
   "toc_window_display": false
  }
 },
 "nbformat": 4,
 "nbformat_minor": 5
}
